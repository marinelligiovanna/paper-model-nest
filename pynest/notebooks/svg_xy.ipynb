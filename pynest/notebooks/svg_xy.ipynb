{
 "cells": [
  {
   "cell_type": "code",
   "execution_count": 1,
   "metadata": {},
   "outputs": [],
   "source": [
    "# from svg.path import Path, Line, Arc, CubicBezier, QuadraticBezier, Close, parse_path\n",
    "\n",
    "import svg.path as spath"
   ]
  },
  {
   "cell_type": "code",
   "execution_count": 30,
   "metadata": {},
   "outputs": [
    {
     "data": {
      "text/plain": [
       "3243.1478"
      ]
     },
     "execution_count": 30,
     "metadata": {},
     "output_type": "execute_result"
    }
   ],
   "source": [
    "path._segments[1].start.imag"
   ]
  },
  {
   "cell_type": "code",
   "execution_count": 147,
   "metadata": {},
   "outputs": [],
   "source": [
    "import numpy as np\n",
    "import typing as tp\n",
    "\n",
    "class ViewBox:\n",
    "\n",
    "    def __init__(self, viewbox:str):\n",
    "        viewbox_parts = viewbox.split(\" \")\n",
    "        viewbox_parts = [float(p) for p in viewbox_parts]\n",
    "        self.xmin = viewbox_parts[0]\n",
    "        self.ymin = viewbox_parts[1]\n",
    "        self.width = viewbox_parts[2]\n",
    "        self.height = viewbox_parts[3]\n",
    "\n",
    "class Segment:\n",
    "    def __init__(self, x0, y0, x1, y1):\n",
    "        self.x0 = x0\n",
    "        self.y0 = y0\n",
    "        self.x1 = x1\n",
    "        self.y1 = y1\n",
    "\n",
    "    def start(self):\n",
    "        return (self.x0, self.y0,)\n",
    "\n",
    "    def end(self):\n",
    "        return (self.x1, self.y1, )\n",
    "\n",
    "    def x_angle(self) -> float:\n",
    "        deltaX = self.x1 - self.x0\n",
    "        deltaY = self.y1 - self.y0\n",
    "\n",
    "        return np.arctan(deltaY/deltaX)\n",
    "\n",
    "    def rotate(self,theta:float, center =(0,0,)):\n",
    "        P = np.array([[self.x0, self.x1], \n",
    "                      [self.y0, self.y1]])\n",
    "        C = np.array([[center[0], center[0]], \n",
    "                      [center[1], center[1]]])\n",
    "        R = np.array([[np.cos(theta), -np.sin(theta)], \n",
    "                      [np.sin(theta), np.cos(theta)]])\n",
    "\n",
    "        P = np.matmul(R, P - C) + C\n",
    "\n",
    "        return Segment(P[0,0], P[1,0], P[0,1], P[1,1])\n",
    "\n",
    "    def plot(self):\n",
    "        points = np.array([self.start(), self.end()])\n",
    "        plt.plot(points[:,0], points[:,1], 'k-', lw=1)\n",
    "    \n",
    "\n",
    "class Polygon:\n",
    "    \n",
    "    def __init__(self):\n",
    "        self.segments = []\n",
    "\n",
    "    def add_segment(self, segment:Segment):\n",
    "        self.segments.append(segment)\n",
    "\n",
    "    \n",
    "    def to_points(self) -> tp.List[tp.Tuple[float, float]]:\n",
    "        points = []\n",
    "        for segment in self.segments:\n",
    "            points.append(segment.start())\n",
    "            points.append(segment.end())\n",
    "\n",
    "        return points\n",
    "\n",
    "    def plot(self) -> None:\n",
    "        for segment in self.segments:\n",
    "            plt.plot(np.array([segment.x0, segment.x1]), np.array([segment.y0, segment.y1]), 'k-')\n",
    "\n",
    "    def centroid(self) -> tp.Tuple[float, float]:\n",
    "        points = np.array(self.to_points())\n",
    "        x_center = np.mean(points[:, 0])\n",
    "        y_center = np.mean(points[:, 1])\n",
    "        \n",
    "        return (x_center, y_center,)\n",
    "\n",
    "    def rotate(self, theta, center: tp.Tuple[float, float] = None):\n",
    "\n",
    "        if center is None:\n",
    "            center = self.centroid()\n",
    "            \n",
    "        points = np.array(self.to_points())\n",
    "\n",
    "        P = np.array([points[:, 0], points[:, 1]])\n",
    "        C = np.array([[center[0] for _ in range(0, P.shape[1])],\n",
    "                      [center[1] for _ in range(0, P.shape[1])]])\n",
    "        R = np.array([[np.cos(theta), -np.sin(theta)], \n",
    "                      [np.sin(theta), np.cos(theta)]])\n",
    "\n",
    "        P = np.matmul(R, P - C) + C \n",
    "\n",
    "        # Create new Polygon\n",
    "        pol = Polygon()\n",
    "        x0 = P[0,0]\n",
    "        y0 = P[1,0]\n",
    "\n",
    "        for i in range(1, P.shape[1]):\n",
    "            x1 = P[0, i]\n",
    "            y1 = P[1, i]\n",
    "            pol.add_segment(Segment(x0, y0, x1, y1))\n",
    "\n",
    "            x0 = x1\n",
    "            y0 = y1\n",
    "\n",
    "        return pol\n",
    "        \n",
    "class MinBoundingRect(Polygon):\n",
    "    \n",
    "    def __init__(self, piece):\n",
    "        super.__init__()\n",
    "        self.piece = piece\n",
    "        self.area = np.Inf\n",
    "        self.theta = None\n",
    "        self._set_min_bounding_rect()\n",
    "        \n",
    "    def _set_min_bounding_rect(self):\n",
    "        points = np.array(self.piece.to_points())\n",
    "        convex_hull = convex_hull_polygon(points)\n",
    "\n",
    "        for segment in convex_hull.segments:\n",
    "            theta = segment.x_angle()\n",
    "\n",
    "            chull_rotated = chull.rotate(-theta, (0,0,))\n",
    "            chull_points = np.array(chull_rotated.to_points())\n",
    "\n",
    "            xs = chull_points[:, 0]\n",
    "            ys = chull_points[:, 1]\n",
    "\n",
    "            xmin = np.min(xs)\n",
    "            xmax = np.max(xs)\n",
    "            ymin = np.min(ys)\n",
    "            ymax = np.max(ys)\n",
    "\n",
    "            ret_area = (ymax - ymin) * (xmax - xmin)\n",
    "            ret = create_rectangle(xmin, xmax, ymin, ymax)\n",
    "\n",
    "            if ret_area < self.area:\n",
    "                self.theta = theta\n",
    "                self.ret = ret\n",
    "                self.area = ret_area\n",
    "                self.convex_hull = chull_rotated\n",
    "\n",
    "class Piece(Polygon):\n",
    "    \n",
    "    def __init__(self):\n",
    "        self.segments: tp.List[Segment] = []\n",
    "\n",
    "    def _get_scale(self, width:float, viewbox:ViewBox):\n",
    "        scale_width = viewbox.width - viewbox.xmin\n",
    "        return width/scale_width\n",
    "\n",
    "    def add_segments_from_path(self, d:str, width: float, viewbox:ViewBox):\n",
    "        # Convert to path object\n",
    "        path = spath.parse_path(d)\n",
    "        segments = path._segments\n",
    "        n_segments = len(segments)\n",
    "\n",
    "        scale = self._get_scale(width, viewbox)\n",
    "\n",
    "        # Iterate in path and map segments\n",
    "        for i in range(1, n_segments):\n",
    "            segment = segments[i]\n",
    "\n",
    "            start = segment.start\n",
    "            end = segment.end\n",
    "\n",
    "            x0 = start.real * scale\n",
    "            y0 = start.imag * scale\n",
    "            x1 = end.real * scale\n",
    "            y1 = end.imag * scale\n",
    "\n",
    "            self.segments.append(Segment(x0,y0,x1,y1))\n",
    "\n",
    "    def to_points(self) -> tp.List[tp.Tuple[float, float]]:\n",
    "        points = []\n",
    "        for segment in self.segments:\n",
    "            points.append(segment.start())\n",
    "            points.append(segment.end())\n",
    "\n",
    "        return points\n",
    "\n",
    "    def min_bounding_rect(self) -> MinBoundingRect:\n",
    "        return MinBoundingRect(self)\n",
    "\n",
    "\n",
    "class PaperModel:\n",
    "    \n",
    "    def __init__(self, viewbox:int):\n",
    "        self.viewbox = viewbox\n",
    "        self.pieces = []\n",
    "        \n",
    "    def add_piece(self, piece:Piece):\n",
    "        self.pieces.append(piece)"
   ]
  },
  {
   "cell_type": "code",
   "execution_count": 148,
   "metadata": {},
   "outputs": [],
   "source": [
    "viewbox = ViewBox(\"0 0 3162.3857 1629.1533\")\n",
    "width=836.71454"
   ]
  },
  {
   "cell_type": "code",
   "execution_count": 149,
   "metadata": {},
   "outputs": [],
   "source": [
    "piece = Piece()\n",
    "d=\"m 1075.7137,3137.1631 56.24,-59.0144\"\n",
    "piece.add_segments_from_path(d, width, viewbox)\n",
    "\n",
    "d = \"m 1019.7528,3078.145 55.9609,59.0181\"\n",
    "piece.add_segments_from_path(d, width, viewbox)\n",
    "\n",
    "d = \"m 1137.9326,3050.57 -20.4177,20.0446 -41.7993,8.3604 -41.6655,-8.3554 -20.3171,-20.0444 6.0198,27.5698 -3.7236,12.5521 59.6845,46.466 59.932,-46.4531 -3.692,-12.5613 z\"\n",
    "piece.add_segments_from_path(d, width, viewbox)"
   ]
  },
  {
   "cell_type": "code",
   "execution_count": 166,
   "metadata": {},
   "outputs": [
    {
     "data": {
      "image/png": "[encoded data removed]",
      "text/plain": [
       "<Figure size 432x288 with 1 Axes>"
      ]
     },
     "metadata": {
      "needs_background": "light"
     },
     "output_type": "display_data"
    }
   ],
   "source": [
    "from scipy.spatial import ConvexHull\n",
    "import matplotlib.pyplot as plt\n",
    "\n",
    "def convex_hull_polygon(points):\n",
    "    hull = ConvexHull(points)\n",
    "    chull = Polygon()\n",
    "\n",
    "    for simplex in hull.simplices:\n",
    "        x = points[simplex, 0]\n",
    "        y = points[simplex, 1]\n",
    "\n",
    "        # print(p0, p1)\n",
    "        s = Segment(x[0], y[0], x[1], y[1])\n",
    "        chull.add_segment(s)\n",
    "\n",
    "    return chull\n",
    "\n",
    "def create_rectangle(xmin, xmax, ymin, ymax):\n",
    "    s1 = Segment(xmin, ymin, xmin, ymax)\n",
    "    s2 = Segment(xmin, ymax, xmax, ymax)\n",
    "    s3 = Segment(xmax, ymax, xmax, ymin)\n",
    "    s4 = Segment(xmax, ymin, xmin, ymin)\n",
    "\n",
    "    ret = Polygon()\n",
    "    ret.add_segment(s1)\n",
    "    ret.add_segment(s2)\n",
    "    ret.add_segment(s3)\n",
    "    ret.add_segment(s4)\n",
    "\n",
    "    return ret\n",
    "\n",
    "\n",
    "points = np.array(piece.to_points())\n",
    "chull = convex_hull_polygon(points)\n",
    "\n",
    "# plt.plot(points[:,0], points[:,1], 'o-')\n",
    "\n",
    "\n",
    "min_ret = {\n",
    "    'area': np.Inf,\n",
    "    'theta': None,\n",
    "    'ret': None,\n",
    "    'convex_hull': None\n",
    "}\n",
    "\n",
    "\n",
    "\n",
    "for segment in chull.segments:\n",
    "    # segment = chull.segments[2]\n",
    "    theta = segment.x_angle()\n",
    "\n",
    "    chull_rotated = chull.rotate(-theta, (0,0,))\n",
    "    chull_points = np.array(chull_rotated.to_points())\n",
    "\n",
    "    xs = chull_points[:, 0]\n",
    "    ys = chull_points[:, 1]\n",
    "\n",
    "    xmin = np.min(xs)\n",
    "    xmax = np.max(xs)\n",
    "    ymin = np.min(ys)\n",
    "    ymax = np.max(ys)\n",
    "\n",
    "    ret_area = (ymax - ymin) * (xmax - xmin)\n",
    "    ret = create_rectangle(xmin, xmax, ymin, ymax)\n",
    "\n",
    "    # chull_rotated.plot()\n",
    "    # ret.plot()\n",
    "    # piece.rotate(-0, (0,0,)).plot()\n",
    "\n",
    "    if ret_area < min_ret['area']:\n",
    "        min_ret['theta'] = theta\n",
    "        min_ret['ret'] = ret\n",
    "        min_ret['area'] = ret_area\n",
    "        min_ret['convex_hull'] = chull_rotated\n",
    "\n",
    "piece.plot()\n",
    "min_ret['ret'].rotate(min_ret['theta'], (0,0,)).plot()\n",
    "\n",
    "\n",
    "# # Rotate to be paralle to x axis\n",
    "# deltaX = p1[0] - p0[0]\n",
    "# deltaY = p1[1] - p0[1]\n",
    "# theta = np.arctan(deltaY/deltaX)\n",
    "\n",
    "\n",
    "\n",
    "# plt.plot(points[simplex, 0], points[simplex, 1], 'r-')\n",
    "# chull.plot()\n",
    "\n"
   ]
  },
  {
   "cell_type": "code",
   "execution_count": 139,
   "metadata": {},
   "outputs": [
    {
     "data": {
      "image/png": "[encoded data removed]",
      "text/plain": [
       "<Figure size 432x288 with 1 Axes>"
      ]
     },
     "metadata": {
      "needs_background": "light"
     },
     "output_type": "display_data"
    }
   ],
   "source": [
    "chull_rotated.plot()"
   ]
  },
  {
   "cell_type": "markdown",
   "metadata": {},
   "source": [
    "plt.plot(x[0], x[1], '-')"
   ]
  },
  {
   "cell_type": "code",
   "execution_count": 143,
   "metadata": {},
   "outputs": [
    {
     "data": {
      "image/png": "[encoded data removed]",
      "text/plain": [
       "<Figure size 432x288 with 1 Axes>"
      ]
     },
     "metadata": {
      "needs_background": "light"
     },
     "output_type": "display_data"
    }
   ],
   "source": [
    "for segment in chull_rotated.segments:\n",
    "    plt.plot(np.array([segment.x0, segment.x1]), np.array([segment.y0, segment.y1]), 'o')"
   ]
  },
  {
   "cell_type": "code",
   "execution_count": 61,
   "metadata": {},
   "outputs": [
    {
     "data": {
      "text/plain": [
       "array([284.61591313, 830.04106049])"
      ]
     },
     "execution_count": 61,
     "metadata": {},
     "output_type": "execute_result"
    }
   ],
   "source": [
    "point"
   ]
  },
  {
   "cell_type": "code",
   "execution_count": 65,
   "metadata": {},
   "outputs": [
    {
     "data": {
      "text/plain": [
       "array([[1, 2]])"
      ]
     },
     "execution_count": 65,
     "metadata": {},
     "output_type": "execute_result"
    }
   ],
   "source": [
    "np.array([(1,2,)])"
   ]
  },
  {
   "cell_type": "code",
   "execution_count": null,
   "metadata": {},
   "outputs": [],
   "source": []
  }
 ],
 "metadata": {
  "interpreter": {
   "hash": "949777d72b0d2535278d3dc13498b2535136f6dfe0678499012e853ee9abcab1"
  },
  "kernelspec": {
   "display_name": "Python 3.9.10 64-bit",
   "language": "python",
   "name": "python3"
  },
  "language_info": {
   "codemirror_mode": {
    "name": "ipython",
    "version": 3
   },
   "file_extension": ".py",
   "mimetype": "text/x-python",
   "name": "python",
   "nbconvert_exporter": "python",
   "pygments_lexer": "ipython3",
   "version": "3.9.10"
  },
  "orig_nbformat": 4
 },
 "nbformat": 4,
 "nbformat_minor": 2
}
