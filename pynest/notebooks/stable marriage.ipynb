{
 "cells": [
  {
   "cell_type": "code",
   "execution_count": 76,
   "metadata": {},
   "outputs": [],
   "source": [
    "class Person:\n",
    "    \n",
    "    def __init__(self, name):\n",
    "        self.name = name\n",
    "        self.i = -1\n",
    "        self.preferences = []\n",
    "        self.pair = None\n",
    "\n",
    "    def __repr__(self):\n",
    "        return self.name\n",
    "\n",
    "    def __next__(self):\n",
    "       self.i +=1\n",
    "       return self.preferences[self.i]\n",
    "\n",
    "    def current_pair(self):\n",
    "        return self.pair\n",
    "\n",
    "    def receive_purpose(self, person):\n",
    "        if self.prefers(person):\n",
    "            prev_pair = self.pair\n",
    "            self.pair = person\n",
    "            return True, prev_pair\n",
    "        else:\n",
    "            return False, None\n",
    "\n",
    "    def prefers(self, person):\n",
    "        if self.pair is None:\n",
    "            return True\n",
    "\n",
    "        return self.preferences.index(person) < self.preferences.index(self.pair)\n",
    "\n",
    "    def is_free(self):\n",
    "        return self.pair is None\n",
    "    "
   ]
  },
  {
   "cell_type": "code",
   "execution_count": 77,
   "metadata": {},
   "outputs": [
    {
     "name": "stdout",
     "output_type": "stream",
     "text": [
      "Charlotte Bingley True\n",
      "Elizabeth Wickham True\n",
      "Jane Bingley True\n",
      "Lydia Bingley False\n",
      "Charlotte Darcy True\n",
      "Lydia Wickham True\n",
      "Elizabeth Darcy True\n",
      "Charlotte Collins True\n"
     ]
    }
   ],
   "source": [
    "charlotte = Person(\"Charlotte\")\n",
    "elizabeth = Person(\"Elizabeth\")\n",
    "jane = Person(\"Jane\")\n",
    "lydia = Person(\"Lydia\")\n",
    "\n",
    "women = [charlotte, elizabeth, jane, lydia]\n",
    "free_women = [charlotte, elizabeth, jane, lydia]\n",
    "\n",
    "bingley = Person(\"Bingley\")\n",
    "darcy = Person(\"Darcy\")\n",
    "collins = Person(\"Collins\")\n",
    "wickham = Person(\"Wickham\")\n",
    "\n",
    "charlotte.preferences = [bingley, darcy, collins, wickham]\n",
    "elizabeth.preferences = [wickham, darcy, bingley, collins]\n",
    "jane.preferences = [bingley, wickham, darcy, collins]\n",
    "lydia.preferences = [bingley, wickham, darcy, collins]\n",
    "\n",
    "bingley.preferences = [jane, elizabeth, lydia, charlotte]\n",
    "collins.preferences = [jane, elizabeth, lydia, charlotte]\n",
    "darcy.preferences = [elizabeth, jane, charlotte, lydia]\n",
    "wickham.preferences = [lydia, jane, elizabeth, charlotte]\n",
    "\n",
    "while len(free_women) > 0:\n",
    "    fw = []\n",
    "\n",
    "    for w in free_women:\n",
    "        m = next(w)\n",
    "        accepted, prev_woman = m.receive_purpose(w)\n",
    "        print(w, m, accepted)\n",
    "        \n",
    "        if accepted:\n",
    "            w.pair = m\n",
    "            if prev_woman:\n",
    "                prev_woman.pair = None\n",
    "                fw.append(prev_woman)\n",
    "        else:\n",
    "            fw.append(w)\n",
    "\n",
    "    free_women = fw\n"
   ]
  },
  {
   "cell_type": "code",
   "execution_count": 78,
   "metadata": {},
   "outputs": [
    {
     "name": "stdout",
     "output_type": "stream",
     "text": [
      "Charlotte, Collins\n",
      "Elizabeth, Darcy\n",
      "Jane, Bingley\n",
      "Lydia, Wickham\n"
     ]
    }
   ],
   "source": [
    "for w in women:\n",
    "    print(f\"{w}, {w.pair}\")"
   ]
  }
 ],
 "metadata": {
  "interpreter": {
   "hash": "949777d72b0d2535278d3dc13498b2535136f6dfe0678499012e853ee9abcab1"
  },
  "kernelspec": {
   "display_name": "Python 3.9.10 64-bit",
   "language": "python",
   "name": "python3"
  },
  "language_info": {
   "codemirror_mode": {
    "name": "ipython",
    "version": 3
   },
   "file_extension": ".py",
   "mimetype": "text/x-python",
   "name": "python",
   "nbconvert_exporter": "python",
   "pygments_lexer": "ipython3",
   "version": "3.9.10"
  },
  "orig_nbformat": 4
 },
 "nbformat": 4,
 "nbformat_minor": 2
}
