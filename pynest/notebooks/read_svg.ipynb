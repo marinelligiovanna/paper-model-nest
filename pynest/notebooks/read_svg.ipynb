{
 "cells": [
  {
   "cell_type": "code",
   "execution_count": 1,
   "metadata": {},
   "outputs": [],
   "source": [
    "import os\n",
    "from xml.dom import minidom\n",
    "import lxml.etree as xmltree\n",
    "from pynest.elements.piece import Piece\n",
    "from pynest.elements.viewbox import ViewBox"
   ]
  },
  {
   "cell_type": "code",
   "execution_count": null,
   "metadata": {},
   "outputs": [],
   "source": []
  },
  {
   "cell_type": "code",
   "execution_count": 2,
   "metadata": {},
   "outputs": [
    {
     "data": {
      "text/plain": [
       "'/workspaces/paper-model-nest/pynest/data/svgs'"
      ]
     },
     "execution_count": 2,
     "metadata": {},
     "output_type": "execute_result"
    }
   ],
   "source": [
    "data_path = f\"{os.getcwd()}/pynest/data/svgs\"\n",
    "data_path"
   ]
  },
  {
   "cell_type": "code",
   "execution_count": 3,
   "metadata": {},
   "outputs": [],
   "source": [
    "svg = xmltree.parse(f\"{data_path}/harry-potter.svg\")"
   ]
  },
  {
   "cell_type": "code",
   "execution_count": 4,
   "metadata": {},
   "outputs": [],
   "source": [
    "nsmap = svg.getroot().nsmap\n",
    "svg_ns = '{' + nsmap['svg'] + '}'"
   ]
  },
  {
   "cell_type": "code",
   "execution_count": 5,
   "metadata": {},
   "outputs": [],
   "source": [
    "root = svg.getroot()\n",
    "viewbox = ViewBox(root.get('viewBox'))\n",
    "width = float(root.get('width').replace(\"mm\", \"\"))\n"
   ]
  },
  {
   "cell_type": "code",
   "execution_count": 6,
   "metadata": {},
   "outputs": [],
   "source": [
    "cut = svg.find(f'.//{svg_ns}g[@id=\"cut\"]')\n",
    "groups = cut.findall(f'./{svg_ns}g')"
   ]
  },
  {
   "cell_type": "code",
   "execution_count": 9,
   "metadata": {},
   "outputs": [],
   "source": [
    "pieces = []\n",
    "\n",
    "def create_piece(paths, name=None):\n",
    "    piece = Piece(name=name)\n",
    "    for path in paths:\n",
    "        d = path.get('d')\n",
    "        piece.add_segments_from_path(d, width, viewbox)\n",
    "\n",
    "    return piece\n",
    "\n",
    "def create_pieces_from_groups(groups, pieces, gid=None):\n",
    "    for group in groups:\n",
    "        group_groups = group.findall(f'./{svg_ns}g')\n",
    "        name = group.get('id') if not gid else gid + \"-\" + group.get('id')\n",
    "\n",
    "        if len(group_groups) > 0:\n",
    "            create_pieces_from_groups(group_groups, pieces, name)\n",
    "        else:\n",
    "            paths = group.findall(f'./{svg_ns}path')\n",
    "            pieces.append(create_piece(paths, name))\n",
    "\n",
    "create_pieces_from_groups(groups, pieces)"
   ]
  },
  {
   "cell_type": "code",
   "execution_count": 11,
   "metadata": {},
   "outputs": [
    {
     "data": {
      "text/plain": [
       "'head-g1926'"
      ]
     },
     "execution_count": 11,
     "metadata": {},
     "output_type": "execute_result"
    }
   ],
   "source": [
    "pieces[37].name"
   ]
  },
  {
   "cell_type": "code",
   "execution_count": 14,
   "metadata": {},
   "outputs": [],
   "source": [
    "import numpy as np"
   ]
  },
  {
   "cell_type": "code",
   "execution_count": 45,
   "metadata": {},
   "outputs": [],
   "source": [
    "groups = svg.findall('.//{http://www.w3.org/2000/svg}g[@id=\"cut\"]')"
   ]
  },
  {
   "cell_type": "code",
   "execution_count": 50,
   "metadata": {},
   "outputs": [
    {
     "data": {
      "text/plain": [
       "'cut'"
      ]
     },
     "execution_count": 50,
     "metadata": {},
     "output_type": "execute_result"
    }
   ],
   "source": [
    "groups[0].get(\"id\")"
   ]
  },
  {
   "cell_type": "code",
   "execution_count": 47,
   "metadata": {},
   "outputs": [
    {
     "data": {
      "text/plain": [
       "{'dc': 'http://purl.org/dc/elements/1.1/',\n",
       " 'cc': 'http://creativecommons.org/ns#',\n",
       " 'rdf': 'http://www.w3.org/1999/02/22-rdf-syntax-ns#',\n",
       " 'svg': 'http://www.w3.org/2000/svg',\n",
       " None: 'http://www.w3.org/2000/svg',\n",
       " 'xlink': 'http://www.w3.org/1999/xlink',\n",
       " 'sodipodi': 'http://sodipodi.sourceforge.net/DTD/sodipodi-0.dtd',\n",
       " 'inkscape': 'http://www.inkscape.org/namespaces/inkscape'}"
      ]
     },
     "execution_count": 47,
     "metadata": {},
     "output_type": "execute_result"
    }
   ],
   "source": [
    "nsmap"
   ]
  },
  {
   "cell_type": "code",
   "execution_count": null,
   "metadata": {},
   "outputs": [],
   "source": []
  }
 ],
 "metadata": {
  "interpreter": {
   "hash": "949777d72b0d2535278d3dc13498b2535136f6dfe0678499012e853ee9abcab1"
  },
  "kernelspec": {
   "display_name": "Python 3.9.10 64-bit",
   "language": "python",
   "name": "python3"
  },
  "language_info": {
   "codemirror_mode": {
    "name": "ipython",
    "version": 3
   },
   "file_extension": ".py",
   "mimetype": "text/x-python",
   "name": "python",
   "nbconvert_exporter": "python",
   "pygments_lexer": "ipython3",
   "version": "3.9.10"
  },
  "orig_nbformat": 4
 },
 "nbformat": 4,
 "nbformat_minor": 2
}
